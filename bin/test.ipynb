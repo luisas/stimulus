{
 "cells": [
  {
   "cell_type": "code",
   "execution_count": 73,
   "id": "c2eace19",
   "metadata": {},
   "outputs": [],
   "source": [
    "\n",
    "#!/usr/bin/env python3\n",
    "\n",
    "import argparse\n",
    "import json\n",
    "import os\n",
    "import importlib.util\n",
    "\n",
    "from src.learner.raytune_learner import TuneWrapper as StimulusTuneWrapper\n",
    "from launch_utils import import_class_from_file, get_experiment\n",
    "from src.utils.yaml_model_schema import YamlRayConfigLoader\n",
    "import torch \n",
    "import src.data.handlertorch as handlertorch\n",
    "from src.learner.predict import PredictWrapper\n",
    "\n",
    "\n",
    "model_path = \"/home/luisasantus/Desktop/crg_cluster/projects/crossevo_stimulus/stimulus/fpkm_model/fpkm_dummy_model.py\"\n",
    "json_experiment = \"/home/luisasantus/Desktop/crg_cluster/projects/crossevo_stimulus/stimulus/fpkm_model/fpkm_pipelinegenerated.json\"\n",
    "config_path = \"/home/luisasantus/Desktop/crg_cluster/projects/crossevo_stimulus/stimulus/fpkm_model/fpkm_dummy_model.yaml\"\n",
    "data_path = \"/home/luisasantus/Desktop/crg_cluster/projects/crossevo_stimulus_old/stimulus/work/9d/0ebf1c448bbe1a0ca653b26bea66f7/test-fpkm-#2-trans.csv\"\n",
    "best_config_path = \"/home/luisasantus/Desktop/crg_cluster/projects/crossevo_stimulus/stimulus/fpkm_model/best_config.json\"\n",
    "\n",
    "\n",
    "\n",
    "\n",
    "\n",
    "\n",
    "# import the model correctly but do not initialize it yet, ray_tune does that itself\n",
    "model_class = import_class_from_file(model_path)\n",
    "model_class()\n",
    "# read json and retrieve experiment name and then initialize the experiment class\n",
    "experiment_name = None\n",
    "with open(json_experiment, 'r') as in_json:\n",
    "    d = json.load(in_json)\n",
    "    experiment_name = d[\"experiment\"]\n",
    "experiment = get_experiment(experiment_name)\n",
    "\n",
    "\n",
    "dataset = handlertorch.TorchDataset(os.path.abspath(data_path), experiment, split=None)\n",
    "train_data = torch.utils.data.DataLoader(dataset, batch_size=2, shuffle=True)\n",
    "\n",
    "\n",
    "\n",
    "# Create the learner\n",
    "#learner = StimulusTuneWrapper(config_path, model_class, data_path, experiment)\n",
    "\n",
    "\n",
    "# Tune the model\n",
    "# learner.tune()\n",
    "# save best config\n",
    "#learner.store_best_config(best_config_path)\n",
    "\n"
   ]
  },
  {
   "cell_type": "code",
   "execution_count": 74,
   "id": "11fce422",
   "metadata": {},
   "outputs": [],
   "source": [
    "# read in config\n",
    "import torch.nn as nn\n",
    "\n",
    "config_loader = YamlRayConfigLoader(config_path)\n",
    "config = config_loader.config\n",
    "\n",
    "loss_dict = {\"loss_fn\": \"PoissonNLLLoss\"}\n",
    "for key, loss_fn in loss_dict.items():\n",
    "    try:\n",
    "        loss_dict[key] = getattr(nn, loss_fn)()\n",
    "    except AttributeError:\n",
    "        raise ValueError(f\"Invalid loss function: {loss_fn}, check PyTorch for documentation on available loss functions\")\n"
   ]
  },
  {
   "cell_type": "code",
   "execution_count": 75,
   "id": "4c1431ec",
   "metadata": {},
   "outputs": [
    {
     "data": {
      "text/plain": [
       "{'loss_fn': PoissonNLLLoss()}"
      ]
     },
     "execution_count": 75,
     "metadata": {},
     "output_type": "execute_result"
    }
   ],
   "source": [
    "loss_dict"
   ]
  },
  {
   "cell_type": "code",
   "execution_count": null,
   "id": "a73a515a",
   "metadata": {},
   "outputs": [],
   "source": []
  },
  {
   "cell_type": "code",
   "execution_count": 76,
   "id": "9bfd3b6b",
   "metadata": {},
   "outputs": [],
   "source": [
    "wrapper = PredictWrapper(model_class(), data_path, experiment, loss_dict, split = 1, batch_size = 1)"
   ]
  },
  {
   "cell_type": "code",
   "execution_count": 79,
   "id": "bd9611d0",
   "metadata": {},
   "outputs": [
    {
     "name": "stdout",
     "output_type": "stream",
     "text": [
      "{'fpkm': tensor([[1.]])}\n",
      "{'fpkm': tensor([[1.]])}\n",
      "{'fpkm': tensor([[1.]])}\n",
      "{'fpkm': tensor([[1.]])}\n",
      "{'fpkm': tensor([[1.]])}\n",
      "{'fpkm': tensor([[1.]])}\n",
      "{'fpkm': tensor([[1.]])}\n"
     ]
    },
    {
     "data": {
      "text/plain": [
       "2.6470473316249303"
      ]
     },
     "execution_count": 79,
     "metadata": {},
     "output_type": "execute_result"
    }
   ],
   "source": [
    "wrapper.compute_metric(\"loss\")"
   ]
  },
  {
   "cell_type": "code",
   "execution_count": null,
   "id": "2257bf49",
   "metadata": {},
   "outputs": [],
   "source": []
  },
  {
   "cell_type": "code",
   "execution_count": null,
   "id": "53c416a7",
   "metadata": {},
   "outputs": [],
   "source": []
  }
 ],
 "metadata": {
  "kernelspec": {
   "display_name": "base",
   "language": "python",
   "name": "python3"
  },
  "language_info": {
   "codemirror_mode": {
    "name": "ipython",
    "version": 3
   },
   "file_extension": ".py",
   "mimetype": "text/x-python",
   "name": "python",
   "nbconvert_exporter": "python",
   "pygments_lexer": "ipython3",
   "version": "3.10.12"
  },
  "vscode": {
   "interpreter": {
    "hash": "9cb3457e621fef10ccc726cdf49c3a6d7ae9ec7c3c7d02b1814e28a4a388400d"
   }
  }
 },
 "nbformat": 4,
 "nbformat_minor": 5
}
